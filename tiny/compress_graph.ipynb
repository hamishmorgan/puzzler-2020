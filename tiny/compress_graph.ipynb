{
 "cells": [
  {
   "cell_type": "markdown",
   "metadata": {},
   "source": [
    "# Compress Graph\n",
    "\n",
    "This notebook contains code to compress our graph representation into a tiny string. This string will contain all valid edges, and only valid edges. It can be used for matching by searching from each subsequent pair of characters from a word. If all pair exists in the string then the word is accepted.\n"
   ]
  },
  {
   "cell_type": "markdown",
   "metadata": {},
   "source": [
    "First establish the puzzle graph we will be operating over:"
   ]
  },
  {
   "cell_type": "code",
   "execution_count": 1,
   "metadata": {},
   "outputs": [
    {
     "data": {
      "text/plain": [
       "{'b': {'l', 'o', 'r', 't', 'y'},\n",
       " 'r': {'b', 'c', 'e', 'l', 'o'},\n",
       " 'l': {'b', 'e', 'o', 'r', 't'},\n",
       " 't': {'b', 'l', 'n', 'o', 'y'},\n",
       " 'y': {'b', 'n', 'o', 's', 't'},\n",
       " 'e': {'c', 'g', 'l', 'o', 'r'},\n",
       " 'o': {'b', 'c', 'e', 'g', 'h', 'l', 'n', 'r', 's', 't', 'w', 'y'},\n",
       " 'n': {'o', 's', 't', 'w', 'y'},\n",
       " 'c': {'e', 'g', 'h', 'o', 'r'},\n",
       " 'g': {'c', 'e', 'h', 'o', 'w'},\n",
       " 'w': {'g', 'h', 'n', 'o', 's'},\n",
       " 's': {'h', 'n', 'o', 'w', 'y'},\n",
       " 'h': {'c', 'g', 'o', 's', 'w'}}"
      ]
     },
     "execution_count": 1,
     "metadata": {},
     "output_type": "execute_result"
    }
   ],
   "source": [
    "\n",
    "graph = {\n",
    "    'b': {'r', 'l', 't', 'y', 'o'}, \n",
    "    'r': {'b', 'l', 'e', 'c', 'o'}, \n",
    "    'l': {'b', 'r', 't', 'e', 'o'}, \n",
    "    't': {'y', 'b', 'l', 'n', 'o'}, \n",
    "    'y': {'b', 't', 'n', 's', 'o'}, \n",
    "    'e': {'r', 'c', 'g', 'l', 'o'}, \n",
    "    'o': {'b', 'r', 'l', 't', 'y', 'e', 'n', 'c', 'g', 'w', 's', 'h'}, \n",
    "    'n': {'s', 'w', 'y', 't', 'o'}, \n",
    "    'c': {'r', 'e', 'g', 'h', 'o'}, \n",
    "    'g': {'h', 'w', 'e', 'c', 'o'}, \n",
    "    'w': {'s', 'n', 'g', 'h', 'o'}, \n",
    "    's': {'y', 'n', 'w', 'h', 'o'}, \n",
    "    'h': {'s', 'w', 'g', 'c', 'o'}\n",
    "}\n",
    "\n",
    "assert all(p in graph[q] for p, to in graph.items() for q in to), \"graph should be symetric directed\"\n",
    "\n",
    "graph"
   ]
  },
  {
   "cell_type": "markdown",
   "metadata": {},
   "source": [
    "Compute the edges for the graph"
   ]
  },
  {
   "cell_type": "code",
   "execution_count": 2,
   "metadata": {},
   "outputs": [
    {
     "name": "stdout",
     "output_type": "stream",
     "text": [
      "['by', 'bl', 'br', 'bt', 'bo', 'rc', 'rl', 're', 'rb', 'ro', 'lr', 'le', 'lb', 'lt', 'lo', 'ty', 'tl', 'tb', 'tn', 'to', 'ys', 'yb', 'yt', 'yn', 'yo', 'ec', 'el', 'er', 'eg', 'eo', 'oc', 'oy', 'ol', 'oe', 'os', 'ob', 'ot', 'on', 'og', 'ow', 'oh', 'or', 'ny', 'ns', 'nt', 'nw', 'no', 'cr', 'ce', 'cg', 'ch', 'co', 'gc', 'ge', 'gw', 'gh', 'go', 'ws', 'wn', 'wg', 'wh', 'wo', 'sy', 'sn', 'sw', 'sh', 'so', 'hc', 'hs', 'hg', 'hw', 'ho']\n"
     ]
    }
   ],
   "source": [
    "edges = [p+q for p, out in graph.items() for q in out]\n",
    "\n",
    "print(edges)"
   ]
  },
  {
   "cell_type": "markdown",
   "metadata": {},
   "source": [
    "### Edge string examples\n",
    "\n",
    "Here's a very inefficient example of what a graph representation will look like"
   ]
  },
  {
   "cell_type": "code",
   "execution_count": 3,
   "metadata": {},
   "outputs": [
    {
     "data": {
      "text/plain": [
       "'by:bl:br:bt:bo:rc:rl:re:rb:ro:lr:le:lb:lt:lo:ty:tl:tb:tn:to:ys:yb:yt:yn:yo:ec:el:er:eg:eo:oc:oy:ol:oe:os:ob:ot:on:og:ow:oh:or:ny:ns:nt:nw:no:cr:ce:cg:ch:co:gc:ge:gw:gh:go:ws:wn:wg:wh:wo:sy:sn:sw:sh:so:hc:hs:hg:hw:ho'"
      ]
     },
     "execution_count": 3,
     "metadata": {},
     "output_type": "execute_result"
    }
   ],
   "source": [
    "\":\".join(f\"{edge}\" for edge in edges)"
   ]
  },
  {
   "cell_type": "markdown",
   "metadata": {},
   "source": [
    "A somewhat more efficience representation is one where we don't store the edge in both directions. If the code checks for character-pairs in both orders we can cut out graph representation in half."
   ]
  },
  {
   "cell_type": "code",
   "execution_count": 4,
   "metadata": {},
   "outputs": [
    {
     "data": {
      "text/plain": [
       "'eg:gw:no:co:gh:el:ny:lo:ow:hs:cg:go:ot:os:sw:by:bt:or:ty:ch:ns:nt:cr:lr:ho:hw:bo:br:sy:bl:er:ce:eo:lt:nw:oy'"
      ]
     },
     "execution_count": 4,
     "metadata": {},
     "output_type": "execute_result"
    }
   ],
   "source": [
    "undirected_edges = {''.join(sorted(edge)) for edge in edges}\n",
    "\n",
    "\":\".join(f\"{edge}\" for edge in undirected_edges)"
   ]
  },
  {
   "cell_type": "markdown",
   "metadata": {},
   "source": [
    "### Validation\n",
    "\n",
    "We're going to be trying various mutations on the string to shorten it, so we're going to need a way to ensure the strings we produce are valid:"
   ]
  },
  {
   "cell_type": "code",
   "execution_count": 5,
   "metadata": {},
   "outputs": [
    {
     "name": "stdout",
     "output_type": "stream",
     "text": [
      "by:bl:br:bt:bo:rc:rl:re:rb:ro:lr:le:lb:lt:lo:ty:tl:tb:tn:to:ys:yb:yt:yn:yo:ec:el:er:eg:eo:oc:oy:ol:oe:os:ob:ot:on:og:ow:oh:or:ny:ns:nt:nw:no:cr:ce:cg:ch:co:gc:ge:gw:gh:go:ws:wn:wg:wh:wo:sy:sn:sw:sh:so:hc:hs:hg:hw:ho True\n",
      "by:bl:br:bt:bo:rc:rl:re:rb:ro:lr:le:lb:lt:lo:ty:tl:tb:tn:to:ys:yb:yt:yn:yo:ec:el:er:eg:eo:oc:oy:ol:oe:os:ob:ot:on:og:ow:oh:or:ny:ns:nt:nw:no:cr:ce:cg:ch:co:gc:ge:gw:gh:go:ws:wn:wg:wh:wo:sy:sn:sw:sh:so:hc:hs:hg:hw False\n"
     ]
    }
   ],
   "source": [
    "alphabet = ''.join(chr(o) for o in range(ord('a'), ord('z')+1))\n",
    "invalid_edges = [a+b for a in alphabet for b in alphabet if a+b not in edges]\n",
    "\n",
    "assert len(invalid_edges) + len(edges) == 26**2\n",
    "\n",
    "def validate_edge_string(string, undirected=False):\n",
    "    for edge in edges:\n",
    "        if edge not in string and (not undirected or edge[::-1] not in string):\n",
    "            yield f\"Missing edge '{edge}'\"\n",
    "    for edge in invalid_edges:\n",
    "        if edge in string:\n",
    "            yield f\"Should not contain edge '{edge}'\"\n",
    "\n",
    "def is_valid_edge_string(string, undirected=False):\n",
    "    return len(list(validate_edge_string(string, undirected=undirected))) == 0\n",
    "\n",
    "\n",
    "valid_string = \":\".join(f\"{p}\" for p in edges)\n",
    "print(valid_string, is_valid_edge_string(valid_string))\n",
    "\n",
    "invalid_string = \":\".join(f\"{p}\" for p in edges[:-1])\n",
    "print(invalid_string, is_valid_edge_string(invalid_string))"
   ]
  },
  {
   "cell_type": "markdown",
   "metadata": {},
   "source": [
    "### Compute the efficiency of an edge string\n",
    "\n",
    "Efficiency is defined by the ideal number of edges (pairs of characters) divided by the actual number of edges in the string.\n",
    "\n",
    "The ideal edge string is one where there are no unnecessary pairs. In the case of directed graph that's 72 character. In the undirected case that's 36. "
   ]
  },
  {
   "cell_type": "code",
   "execution_count": 6,
   "metadata": {},
   "outputs": [
    {
     "name": "stdout",
     "output_type": "stream",
     "text": [
      "by:bl:br:bt:bo:rc:rl:re:rb:ro:lr:le:lb:lt:lo:ty:tl:tb:tn:to:ys:yb:yt:yn:yo:ec:el:er:eg:eo:oc:oy:ol:oe:os:ob:ot:on:og:ow:oh:or:ny:ns:nt:nw:no:cr:ce:cg:ch:co:gc:ge:gw:gh:go:ws:wn:wg:wh:wo:sy:sn:sw:sh:so:hc:hs:hg:hw:ho Efficiency: 17%\n"
     ]
    }
   ],
   "source": [
    "from collections import Counter\n",
    "\n",
    "def efficiency(string):\n",
    "    counter = Counter([p+q for p,q in zip(string, string[1:])] + [q+p for p,q in zip(string, string[1:])])\n",
    "    return len(edges) / sum(counter.values())\n",
    "\n",
    "edge_string = \":\".join(f\"{p}\" for p in edges)\n",
    "print(f\"{edge_string} Efficiency: {efficiency(edge_string):.0%}\")"
   ]
  },
  {
   "cell_type": "markdown",
   "metadata": {},
   "source": [
    "### Find the shortest possible edge string\n"
   ]
  },
  {
   "cell_type": "code",
   "execution_count": 7,
   "metadata": {},
   "outputs": [
    {
     "data": {
      "text/plain": [
       "'hgchoybocrbltosytb:cerlegor:tnshwnol:gwoe:sw:ny'"
      ]
     },
     "execution_count": 7,
     "metadata": {},
     "output_type": "execute_result"
    }
   ],
   "source": [
    "import random\n",
    "\n",
    "def create_edge_string_with_random_walks(graph, max_walks=1000, undirected=True):\n",
    "    \"\"\"\n",
    "    Randomly walk the graph recording visited edges and ensuring we don't traverse the same edge twice. Produce an\n",
    "    edge string by concatonating all the walks together.\n",
    "    \"\"\"\n",
    "    walks = []\n",
    "    seen_edges = set()\n",
    "\n",
    "    src = random.choice(list(graph))\n",
    "    walk = None\n",
    "\n",
    "    for i in range(max_walks):  \n",
    "        available = [dst for dst in graph[src] if src+dst not in seen_edges]\n",
    "        if not available:\n",
    "            walks.append(walk)\n",
    "            src = random.choice(list(graph))\n",
    "            walk = None\n",
    "        else:\n",
    "            if not walk:\n",
    "                walk = src\n",
    "            dst = random.choice(available)\n",
    "            walk += dst\n",
    "            seen_edges.add(src + dst)\n",
    "            if undirected:\n",
    "                seen_edges.add(dst + src)\n",
    "            src = dst\n",
    "    result = ':'.join(walk for walk in walks if walk)\n",
    "    \n",
    "    assert is_valid_edge_string(result, undirected), \\\n",
    "        f\"Validation failed for string '{result}': {list(validate_edge_string(result, undirected))}\"\n",
    "    \n",
    "    return result\n",
    "\n",
    "\n",
    "create_edge_string_with_random_walks(graph)"
   ]
  },
  {
   "cell_type": "code",
   "execution_count": 8,
   "metadata": {},
   "outputs": [
    {
     "data": {
      "text/plain": [
       "(42, 47)"
      ]
     },
     "execution_count": 8,
     "metadata": {},
     "output_type": "execute_result"
    }
   ],
   "source": [
    "\n",
    "def shorten(string, undirected=False):\n",
    "    \"\"\"\n",
    "    Delete all characters from the string that we can while maintaining validity\n",
    "    \"\"\"\n",
    "    keep_trying = True\n",
    "    while keep_trying:\n",
    "        keep_trying = False\n",
    "        for i in range(len(string)):\n",
    "            shortened = string[:i] + string[i+1:]\n",
    "            if is_valid_edge_string(shortened, undirected=undirected):\n",
    "                string = shortened\n",
    "                keep_trying = True\n",
    "                break\n",
    "    return string\n",
    "\n",
    "\n",
    "string = 'relbtnswgosytownolrceohcobroyb:lt:yn:shge:cg:wh'\n",
    "\n",
    "len(shorten(string, undirected=True)), len(string)"
   ]
  },
  {
   "cell_type": "code",
   "execution_count": 9,
   "metadata": {},
   "outputs": [
    {
     "name": "stdout",
     "output_type": "stream",
     "text": [
      "Found new best: yogecghwg:lbysntlrohswocrelonytobr:soe:wn:ch:tb (length: 47, efficiency: 0.782608695652174)\n",
      "Found new best: corceonsholtynwsyos:tnwghwotbyogchgelrerblbo (length: 44, efficiency: 0.8372093023255814)\n",
      "Found new best: tleoynorlobtyswgcrbysnwogerechgcotnwhsoh:lb (length: 43, efficiency: 0.8571428571428571)\n",
      "Found new best: whsyonsorblegohgcotnytloerchswnybtbowgcerl (length: 42, efficiency: 0.8780487804878049)\n",
      "CPU times: user 9.61 s, sys: 36.3 ms, total: 9.65 s\n",
      "Wall time: 9.67 s\n"
     ]
    },
    {
     "data": {
      "text/plain": [
       "'whsyonsorblegohgcotnytloerchswnybtbowgcerl'"
      ]
     },
     "execution_count": 9,
     "metadata": {},
     "output_type": "execute_result"
    }
   ],
   "source": [
    " \n",
    "def find_shortest_edge_string(graph, repeats=1000, max_walks=1000, undirected=True):\n",
    "    \"\"\"\n",
    "    Find the shortest possible edge string by repeatedly walk the graph to find candidates that are then shortened\n",
    "    by deleting all unnecessary characters. \n",
    "    \"\"\"\n",
    "    best = None\n",
    "\n",
    "    for _ in range(repeats):\n",
    "\n",
    "        string = create_edge_string_with_random_walks(graph, max_walks=max_walks, undirected=undirected)\n",
    "        \n",
    "        shortened_string = shorten(string, undirected=undirected)\n",
    "        \n",
    "        if not best or len(shortened_string) < len(best):\n",
    "            best = shortened_string\n",
    "            print(f\"Found new best: {best} (length: {len(best)}, efficiency: {efficiency(best)})\")\n",
    "    return best\n",
    "\n",
    "%time compressed_edge_string = find_shortest_edge_string(graph)\n",
    "\n",
    "compressed_edge_string\n"
   ]
  },
  {
   "cell_type": "code",
   "execution_count": null,
   "metadata": {},
   "outputs": [],
   "source": []
  },
  {
   "cell_type": "code",
   "execution_count": null,
   "metadata": {},
   "outputs": [],
   "source": []
  },
  {
   "cell_type": "code",
   "execution_count": null,
   "metadata": {},
   "outputs": [],
   "source": []
  }
 ],
 "metadata": {
  "kernelspec": {
   "display_name": "Python 3",
   "language": "python",
   "name": "python3"
  },
  "language_info": {
   "codemirror_mode": {
    "name": "ipython",
    "version": 3
   },
   "file_extension": ".py",
   "mimetype": "text/x-python",
   "name": "python",
   "nbconvert_exporter": "python",
   "pygments_lexer": "ipython3",
   "version": "3.8.2"
  }
 },
 "nbformat": 4,
 "nbformat_minor": 4
}
